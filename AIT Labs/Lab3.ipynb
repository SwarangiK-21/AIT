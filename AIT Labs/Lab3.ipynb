{
 "cells": [
  {
   "cell_type": "markdown",
   "id": "b176251f-7433-457b-bde9-24fae4341669",
   "metadata": {},
   "source": [
    "# A* Problem"
   ]
  },
  {
   "cell_type": "code",
   "execution_count": 1,
   "id": "91b29be6-0781-47f0-ad9f-a6175ad678e1",
   "metadata": {},
   "outputs": [
    {
     "name": "stdout",
     "output_type": "stream",
     "text": [
      "Manhattan Path: [(0, 0), (0, 1), (0, 2), (1, 2), (2, 2), (2, 3), (2, 4), (3, 4), (4, 4)]\n",
      "Euclidean Path: [(0, 0), (0, 1), (0, 2), (1, 2), (2, 2), (2, 3), (2, 4), (3, 4), (4, 4)]\n"
     ]
    }
   ],
   "source": [
    "import math\n",
    "from heapq import heappush, heappop\n",
    "from typing import List, Tuple, Callable, Optional\n",
    "\n",
    "# --- Type Aliases (for clarity) ---\n",
    "Point = Tuple[int, int]\n",
    "Path = List[Point]\n",
    "Grid = List[List[int]]\n",
    "\n",
    "# --- Heuristic Functions ---\n",
    "def manhattan_distance(a: Point, b: Point) -> int:\n",
    "    \"\"\"Calculates the Manhattan distance (city block distance).\"\"\"\n",
    "    return abs(a[0] - b[0]) + abs(a[1] - b[1])\n",
    "\n",
    "def euclidean_distance(a: Point, b: Point) -> float:\n",
    "    \"\"\"Calculates the straight-line Euclidean distance.\"\"\"\n",
    "    return math.sqrt((a[0] - b[0])**2 + (a[1] - b[1])**2)\n",
    "\n",
    "# --- A* Search Algorithm ---\n",
    "def astar(\n",
    "    start: Point,\n",
    "    goal: Point,\n",
    "    grid: Grid,\n",
    "    heuristic: Callable[[Point, Point], float] = manhattan_distance\n",
    ") -> Optional[Path]:\n",
    "    \"\"\"Finds the shortest path from start to goal using the A* algorithm.\"\"\"\n",
    "    rows, cols = len(grid), len(grid[0])\n",
    "    \n",
    "    # Priority queue: (f_score, node, path_to_node)\n",
    "    open_list: List[Tuple[float, Point, Path]] = [(0, start, [start])]\n",
    "    visited: set[Point] = set()\n",
    "\n",
    "    while open_list:\n",
    "        # Get the node with the lowest f_score from the priority queue\n",
    "        f_score, current_node, path = heappop(open_list)\n",
    "\n",
    "        if current_node == goal:\n",
    "            return path  # Path found!\n",
    "\n",
    "        if current_node in visited:\n",
    "            continue\n",
    "        \n",
    "        visited.add(current_node)\n",
    "\n",
    "        # Explore neighbors (up, down, left, right)\n",
    "        for dx, dy in [(0, 1), (0, -1), (1, 0), (-1, 0)]:\n",
    "            neighbor = (current_node[0] + dx, current_node[1] + dy)\n",
    "            nx, ny = neighbor\n",
    "\n",
    "            # Check if neighbor is valid (within bounds and not an obstacle)\n",
    "            if 0 <= nx < rows and 0 <= ny < cols and grid[nx][ny] == 0:\n",
    "                \n",
    "                # *** FIX WAS HERE ***\n",
    "                # g_score is the actual cost from the start to this neighbor\n",
    "                g_score = len(path) # The cost to the current node is len(path)\n",
    "                \n",
    "                # h_score is the estimated heuristic cost from the neighbor to the goal\n",
    "                h_score = heuristic(neighbor, goal)\n",
    "                \n",
    "                # f_score is the total estimated cost\n",
    "                new_f_score = (g_score + 1) + h_score # Add 1 for the step to the neighbor\n",
    "                \n",
    "                # Add the neighbor to the open list with its new path\n",
    "                heappush(open_list, (new_f_score, neighbor, path + [neighbor]))\n",
    "\n",
    "    return None # No path found\n",
    "\n",
    "# --- Example Usage ---\n",
    "# Example grid (0=free, 1=blocked)\n",
    "grid = [\n",
    "    [0, 0, 0, 0, 1],\n",
    "    [1, 1, 0, 1, 0],\n",
    "    [0, 0, 0, 0, 0],\n",
    "    [0, 1, 1, 1, 0],\n",
    "    [0, 0, 0, 0, 0]\n",
    "]\n",
    "\n",
    "start, goal = (0, 0), (4, 4)\n",
    "\n",
    "# Run the algorithm with both heuristics\n",
    "manhattan_path = astar(start, goal, grid, manhattan_distance)\n",
    "euclidean_path = astar(start, goal, grid, euclidean_distance)\n",
    "\n",
    "print(\"Manhattan Path:\", manhattan_path)\n",
    "print(\"Euclidean Path:\", euclidean_path)"
   ]
  }
 ],
 "metadata": {
  "kernelspec": {
   "display_name": "Python 3 (ipykernel)",
   "language": "python",
   "name": "python3"
  },
  "language_info": {
   "codemirror_mode": {
    "name": "ipython",
    "version": 3
   },
   "file_extension": ".py",
   "mimetype": "text/x-python",
   "name": "python",
   "nbconvert_exporter": "python",
   "pygments_lexer": "ipython3",
   "version": "3.13.1"
  }
 },
 "nbformat": 4,
 "nbformat_minor": 5
}
