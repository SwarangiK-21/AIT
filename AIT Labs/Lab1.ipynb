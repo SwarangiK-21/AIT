{
 "cells": [
  {
   "cell_type": "markdown",
   "id": "9d1871ab-e2a3-4461-a70b-f15a969a740f",
   "metadata": {},
   "source": [
    "# Q1: Water Jug Problem"
   ]
  },
  {
   "cell_type": "code",
   "execution_count": 1,
   "id": "94fc9184-b8c6-4a46-a68c-6951eec88cd7",
   "metadata": {},
   "outputs": [
    {
     "name": "stdout",
     "output_type": "stream",
     "text": [
      "--- Water Jug Simulation ---\n",
      "Capacities: (4, 3), Goal: 2\n",
      "\n",
      "Current State: (0, 0)\n",
      "Action: Fill Jug 1\n",
      "Current State: (4, 0)\n",
      "Action: Pour Jug 1 -> Jug 2\n",
      "Current State: (1, 3)\n",
      "Action: Empty Jug 2\n",
      "Current State: (1, 0)\n",
      "Action: Pour Jug 1 -> Jug 2\n",
      "Current State: (0, 1)\n",
      "Action: Fill Jug 1\n",
      "Current State: (4, 1)\n",
      "Action: Pour Jug 1 -> Jug 2\n",
      "Current State: (2, 3)\n",
      "\n",
      "Goal of 2 liters reached! ✅\n"
     ]
    }
   ],
   "source": [
    "def solve_water_jug_simulation(capacity1: int, capacity2: int, goal: int):\n",
    "    \"\"\"\n",
    "    Simulates one specific, rule-based path to solve the Water Jug Problem.\n",
    "\n",
    "    Args:\n",
    "        capacity1: The capacity of the first jug.\n",
    "        capacity2: The capacity of the second jug.\n",
    "        goal: The target amount of water to have in one of the jugs.\n",
    "    \"\"\"\n",
    "    jug1, jug2 = 0, 0\n",
    "    # Keep track of visited states to prevent infinite loops\n",
    "    visited_states = set()\n",
    "\n",
    "    print(f\"--- Water Jug Simulation ---\")\n",
    "    print(f\"Capacities: ({capacity1}, {capacity2}), Goal: {goal}\\n\")\n",
    "\n",
    "    while (jug1, jug2) not in visited_states:\n",
    "        # Add current state to visited set\n",
    "        visited_states.add((jug1, jug2))\n",
    "        print(f\"Current State: ({jug1}, {jug2})\")\n",
    "\n",
    "        # Check if the goal is reached\n",
    "        if jug1 == goal or jug2 == goal:\n",
    "            print(f\"\\nGoal of {goal} liters reached! ✅\")\n",
    "            return\n",
    "\n",
    "        # Apply a fixed sequence of rules\n",
    "        if jug1 == 0:\n",
    "            jug1 = capacity1\n",
    "            print(\"Action: Fill Jug 1\")\n",
    "        elif jug2 == capacity2:\n",
    "            jug2 = 0\n",
    "            print(\"Action: Empty Jug 2\")\n",
    "        else:\n",
    "            # Calculate amount to pour from jug1 to jug2\n",
    "            transfer_amount = min(jug1, capacity2 - jug2)\n",
    "            jug1 -= transfer_amount\n",
    "            jug2 += transfer_amount\n",
    "            print(\"Action: Pour Jug 1 -> Jug 2\")\n",
    "\n",
    "    print(f\"\\nCould not reach goal with this rule set. Stuck in a loop. 🛑\")\n",
    "\n",
    "# --- Example Usage ---\n",
    "solve_water_jug_simulation(capacity1=4, capacity2=3, goal=2)"
   ]
  },
  {
   "cell_type": "code",
   "execution_count": null,
   "id": "400c5301-a0ab-45f7-8026-09166806c7f3",
   "metadata": {},
   "outputs": [],
   "source": []
  }
 ],
 "metadata": {
  "kernelspec": {
   "display_name": "Python 3 (ipykernel)",
   "language": "python",
   "name": "python3"
  },
  "language_info": {
   "codemirror_mode": {
    "name": "ipython",
    "version": 3
   },
   "file_extension": ".py",
   "mimetype": "text/x-python",
   "name": "python",
   "nbconvert_exporter": "python",
   "pygments_lexer": "ipython3",
   "version": "3.13.1"
  }
 },
 "nbformat": 4,
 "nbformat_minor": 5
}
